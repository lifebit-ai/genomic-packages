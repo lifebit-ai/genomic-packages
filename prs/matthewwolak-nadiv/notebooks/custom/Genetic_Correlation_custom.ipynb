{
 "cells": [
  {
   "cell_type": "code",
   "execution_count": 1,
   "metadata": {},
   "outputs": [
    {
     "data": {
      "text/html": [
       "<table>\n",
       "<caption>A tibble: 6 × 22</caption>\n",
       "<thead>\n",
       "\t<tr><th scope=col>FILE</th><th scope=col>ID</th><th scope=col>CHR</th><th scope=col>P0</th><th scope=col>P1</th><th scope=col>HSQ</th><th scope=col>BEST.GWAS.ID</th><th scope=col>BEST.GWAS.Z</th><th scope=col>EQTL.ID</th><th scope=col>EQTL.R2</th><th scope=col>⋯</th><th scope=col>NSNP</th><th scope=col>NWGT</th><th scope=col>MODEL</th><th scope=col>MODELCV.R2</th><th scope=col>MODELCV.PV</th><th scope=col>TWAS.Z</th><th scope=col>TWAS.P</th><th scope=col>PERM.PV</th><th scope=col>PERM.N</th><th scope=col>PERM.ANL_PV</th></tr>\n",
       "\t<tr><th scope=col>&lt;chr&gt;</th><th scope=col>&lt;chr&gt;</th><th scope=col>&lt;int&gt;</th><th scope=col>&lt;dbl&gt;</th><th scope=col>&lt;dbl&gt;</th><th scope=col>&lt;dbl&gt;</th><th scope=col>&lt;chr&gt;</th><th scope=col>&lt;dbl&gt;</th><th scope=col>&lt;chr&gt;</th><th scope=col>&lt;dbl&gt;</th><th scope=col>⋯</th><th scope=col>&lt;int&gt;</th><th scope=col>&lt;int&gt;</th><th scope=col>&lt;chr&gt;</th><th scope=col>&lt;dbl&gt;</th><th scope=col>&lt;dbl&gt;</th><th scope=col>&lt;dbl&gt;</th><th scope=col>&lt;dbl&gt;</th><th scope=col>&lt;dbl&gt;</th><th scope=col>&lt;int&gt;</th><th scope=col>&lt;dbl&gt;</th></tr>\n",
       "</thead>\n",
       "<tbody>\n",
       "\t<tr><td>/u/home/n/nmancuso/pasaniucdata/DATA/FUSION//WEIGHTS//CMC.BRAIN.RNASEQ/CMC.LOC643837.wgt.RDat</td><td>LOC643837</td><td>1</td><td> 763000</td><td> 795000</td><td>0.0979</td><td>rs17160824</td><td>1.96</td><td>rs3094315 </td><td>0.0865</td><td>⋯</td><td>159</td><td>  4</td><td>lasso</td><td>0.084282</td><td>1.89e-10</td><td>-0.96910</td><td>0.332</td><td>0</td><td>0</td><td>0</td></tr>\n",
       "\t<tr><td>/u/home/n/nmancuso/pasaniucdata/DATA/FUSION//WEIGHTS//CMC.BRAIN.RNASEQ/CMC.AGRN.wgt.RDat     </td><td>AGRN     </td><td>1</td><td> 956000</td><td> 991000</td><td>0.0655</td><td>rs17160824</td><td>1.96</td><td>rs9442372 </td><td>0.0521</td><td>⋯</td><td>200</td><td>  6</td><td>lasso</td><td>0.062644</td><td>4.15e-08</td><td>-0.44390</td><td>0.657</td><td>0</td><td>0</td><td>0</td></tr>\n",
       "\t<tr><td>/u/home/n/nmancuso/pasaniucdata/DATA/FUSION//WEIGHTS//CMC.BRAIN.RNASEQ/CMC.C1orf159.wgt.RDat </td><td>C1orf159 </td><td>1</td><td>1020000</td><td>1050000</td><td>0.0917</td><td>rs17160824</td><td>1.96</td><td>rs3766191 </td><td>0.0266</td><td>⋯</td><td>212</td><td>  9</td><td>enet </td><td>0.070706</td><td>5.63e-09</td><td>-1.51971</td><td>0.129</td><td>0</td><td>0</td><td>0</td></tr>\n",
       "\t<tr><td>/u/home/n/nmancuso/pasaniucdata/DATA/FUSION//WEIGHTS//CMC.BRAIN.RNASEQ/CMC.SCNN1D.wgt.RDat   </td><td>SCNN1D   </td><td>1</td><td>1220000</td><td>1230000</td><td>0.1704</td><td>rs9660180 </td><td>4.89</td><td>rs11260570</td><td>0.0840</td><td>⋯</td><td>248</td><td>248</td><td>bslmm</td><td>0.114216</td><td>9.28e-14</td><td> 0.76111</td><td>0.447</td><td>0</td><td>0</td><td>0</td></tr>\n",
       "\t<tr><td>/u/home/n/nmancuso/pasaniucdata/DATA/FUSION//WEIGHTS//CMC.BRAIN.RNASEQ/CMC.MXRA8.wgt.RDat    </td><td>MXRA8    </td><td>1</td><td>1290000</td><td>1300000</td><td>0.0503</td><td>rs9660180 </td><td>4.89</td><td>rs1739855 </td><td>0.0206</td><td>⋯</td><td>258</td><td>  7</td><td>lasso</td><td>0.035945</td><td>2.95e-05</td><td>-0.17818</td><td>0.859</td><td>0</td><td>0</td><td>0</td></tr>\n",
       "\t<tr><td>/u/home/n/nmancuso/pasaniucdata/DATA/FUSION//WEIGHTS//CMC.BRAIN.RNASEQ/CMC.LOC148413.wgt.RDat</td><td>LOC148413</td><td>1</td><td>1330000</td><td>1340000</td><td>0.0648</td><td>rs9660180 </td><td>4.89</td><td>rs2649588 </td><td>0.0071</td><td>⋯</td><td>270</td><td> 13</td><td>enet </td><td>0.058540</td><td>1.14e-07</td><td>-1.06427</td><td>0.287</td><td>0</td><td>0</td><td>0</td></tr>\n",
       "</tbody>\n",
       "</table>\n"
      ],
      "text/latex": [
       "A tibble: 6 × 22\n",
       "\\begin{tabular}{lllllllllllllllllllll}\n",
       " FILE & ID & CHR & P0 & P1 & HSQ & BEST.GWAS.ID & BEST.GWAS.Z & EQTL.ID & EQTL.R2 & ⋯ & NSNP & NWGT & MODEL & MODELCV.R2 & MODELCV.PV & TWAS.Z & TWAS.P & PERM.PV & PERM.N & PERM.ANL\\_PV\\\\\n",
       " <chr> & <chr> & <int> & <dbl> & <dbl> & <dbl> & <chr> & <dbl> & <chr> & <dbl> & ⋯ & <int> & <int> & <chr> & <dbl> & <dbl> & <dbl> & <dbl> & <dbl> & <int> & <dbl>\\\\\n",
       "\\hline\n",
       "\t /u/home/n/nmancuso/pasaniucdata/DATA/FUSION//WEIGHTS//CMC.BRAIN.RNASEQ/CMC.LOC643837.wgt.RDat & LOC643837 & 1 &  763000 &  795000 & 0.0979 & rs17160824 & 1.96 & rs3094315  & 0.0865 & ⋯ & 159 &   4 & lasso & 0.084282 & 1.89e-10 & -0.96910 & 0.332 & 0 & 0 & 0\\\\\n",
       "\t /u/home/n/nmancuso/pasaniucdata/DATA/FUSION//WEIGHTS//CMC.BRAIN.RNASEQ/CMC.AGRN.wgt.RDat      & AGRN      & 1 &  956000 &  991000 & 0.0655 & rs17160824 & 1.96 & rs9442372  & 0.0521 & ⋯ & 200 &   6 & lasso & 0.062644 & 4.15e-08 & -0.44390 & 0.657 & 0 & 0 & 0\\\\\n",
       "\t /u/home/n/nmancuso/pasaniucdata/DATA/FUSION//WEIGHTS//CMC.BRAIN.RNASEQ/CMC.C1orf159.wgt.RDat  & C1orf159  & 1 & 1020000 & 1050000 & 0.0917 & rs17160824 & 1.96 & rs3766191  & 0.0266 & ⋯ & 212 &   9 & enet  & 0.070706 & 5.63e-09 & -1.51971 & 0.129 & 0 & 0 & 0\\\\\n",
       "\t /u/home/n/nmancuso/pasaniucdata/DATA/FUSION//WEIGHTS//CMC.BRAIN.RNASEQ/CMC.SCNN1D.wgt.RDat    & SCNN1D    & 1 & 1220000 & 1230000 & 0.1704 & rs9660180  & 4.89 & rs11260570 & 0.0840 & ⋯ & 248 & 248 & bslmm & 0.114216 & 9.28e-14 &  0.76111 & 0.447 & 0 & 0 & 0\\\\\n",
       "\t /u/home/n/nmancuso/pasaniucdata/DATA/FUSION//WEIGHTS//CMC.BRAIN.RNASEQ/CMC.MXRA8.wgt.RDat     & MXRA8     & 1 & 1290000 & 1300000 & 0.0503 & rs9660180  & 4.89 & rs1739855  & 0.0206 & ⋯ & 258 &   7 & lasso & 0.035945 & 2.95e-05 & -0.17818 & 0.859 & 0 & 0 & 0\\\\\n",
       "\t /u/home/n/nmancuso/pasaniucdata/DATA/FUSION//WEIGHTS//CMC.BRAIN.RNASEQ/CMC.LOC148413.wgt.RDat & LOC148413 & 1 & 1330000 & 1340000 & 0.0648 & rs9660180  & 4.89 & rs2649588  & 0.0071 & ⋯ & 270 &  13 & enet  & 0.058540 & 1.14e-07 & -1.06427 & 0.287 & 0 & 0 & 0\\\\\n",
       "\\end{tabular}\n"
      ],
      "text/markdown": [
       "\n",
       "A tibble: 6 × 22\n",
       "\n",
       "| FILE &lt;chr&gt; | ID &lt;chr&gt; | CHR &lt;int&gt; | P0 &lt;dbl&gt; | P1 &lt;dbl&gt; | HSQ &lt;dbl&gt; | BEST.GWAS.ID &lt;chr&gt; | BEST.GWAS.Z &lt;dbl&gt; | EQTL.ID &lt;chr&gt; | EQTL.R2 &lt;dbl&gt; | ⋯ ⋯ | NSNP &lt;int&gt; | NWGT &lt;int&gt; | MODEL &lt;chr&gt; | MODELCV.R2 &lt;dbl&gt; | MODELCV.PV &lt;dbl&gt; | TWAS.Z &lt;dbl&gt; | TWAS.P &lt;dbl&gt; | PERM.PV &lt;dbl&gt; | PERM.N &lt;int&gt; | PERM.ANL_PV &lt;dbl&gt; |\n",
       "|---|---|---|---|---|---|---|---|---|---|---|---|---|---|---|---|---|---|---|---|---|\n",
       "| /u/home/n/nmancuso/pasaniucdata/DATA/FUSION//WEIGHTS//CMC.BRAIN.RNASEQ/CMC.LOC643837.wgt.RDat | LOC643837 | 1 |  763000 |  795000 | 0.0979 | rs17160824 | 1.96 | rs3094315  | 0.0865 | ⋯ | 159 |   4 | lasso | 0.084282 | 1.89e-10 | -0.96910 | 0.332 | 0 | 0 | 0 |\n",
       "| /u/home/n/nmancuso/pasaniucdata/DATA/FUSION//WEIGHTS//CMC.BRAIN.RNASEQ/CMC.AGRN.wgt.RDat      | AGRN      | 1 |  956000 |  991000 | 0.0655 | rs17160824 | 1.96 | rs9442372  | 0.0521 | ⋯ | 200 |   6 | lasso | 0.062644 | 4.15e-08 | -0.44390 | 0.657 | 0 | 0 | 0 |\n",
       "| /u/home/n/nmancuso/pasaniucdata/DATA/FUSION//WEIGHTS//CMC.BRAIN.RNASEQ/CMC.C1orf159.wgt.RDat  | C1orf159  | 1 | 1020000 | 1050000 | 0.0917 | rs17160824 | 1.96 | rs3766191  | 0.0266 | ⋯ | 212 |   9 | enet  | 0.070706 | 5.63e-09 | -1.51971 | 0.129 | 0 | 0 | 0 |\n",
       "| /u/home/n/nmancuso/pasaniucdata/DATA/FUSION//WEIGHTS//CMC.BRAIN.RNASEQ/CMC.SCNN1D.wgt.RDat    | SCNN1D    | 1 | 1220000 | 1230000 | 0.1704 | rs9660180  | 4.89 | rs11260570 | 0.0840 | ⋯ | 248 | 248 | bslmm | 0.114216 | 9.28e-14 |  0.76111 | 0.447 | 0 | 0 | 0 |\n",
       "| /u/home/n/nmancuso/pasaniucdata/DATA/FUSION//WEIGHTS//CMC.BRAIN.RNASEQ/CMC.MXRA8.wgt.RDat     | MXRA8     | 1 | 1290000 | 1300000 | 0.0503 | rs9660180  | 4.89 | rs1739855  | 0.0206 | ⋯ | 258 |   7 | lasso | 0.035945 | 2.95e-05 | -0.17818 | 0.859 | 0 | 0 | 0 |\n",
       "| /u/home/n/nmancuso/pasaniucdata/DATA/FUSION//WEIGHTS//CMC.BRAIN.RNASEQ/CMC.LOC148413.wgt.RDat | LOC148413 | 1 | 1330000 | 1340000 | 0.0648 | rs9660180  | 4.89 | rs2649588  | 0.0071 | ⋯ | 270 |  13 | enet  | 0.058540 | 1.14e-07 | -1.06427 | 0.287 | 0 | 0 | 0 |\n",
       "\n"
      ],
      "text/plain": [
       "  FILE                                                                                         \n",
       "1 /u/home/n/nmancuso/pasaniucdata/DATA/FUSION//WEIGHTS//CMC.BRAIN.RNASEQ/CMC.LOC643837.wgt.RDat\n",
       "2 /u/home/n/nmancuso/pasaniucdata/DATA/FUSION//WEIGHTS//CMC.BRAIN.RNASEQ/CMC.AGRN.wgt.RDat     \n",
       "3 /u/home/n/nmancuso/pasaniucdata/DATA/FUSION//WEIGHTS//CMC.BRAIN.RNASEQ/CMC.C1orf159.wgt.RDat \n",
       "4 /u/home/n/nmancuso/pasaniucdata/DATA/FUSION//WEIGHTS//CMC.BRAIN.RNASEQ/CMC.SCNN1D.wgt.RDat   \n",
       "5 /u/home/n/nmancuso/pasaniucdata/DATA/FUSION//WEIGHTS//CMC.BRAIN.RNASEQ/CMC.MXRA8.wgt.RDat    \n",
       "6 /u/home/n/nmancuso/pasaniucdata/DATA/FUSION//WEIGHTS//CMC.BRAIN.RNASEQ/CMC.LOC148413.wgt.RDat\n",
       "  ID        CHR P0      P1      HSQ    BEST.GWAS.ID BEST.GWAS.Z EQTL.ID   \n",
       "1 LOC643837 1    763000  795000 0.0979 rs17160824   1.96        rs3094315 \n",
       "2 AGRN      1    956000  991000 0.0655 rs17160824   1.96        rs9442372 \n",
       "3 C1orf159  1   1020000 1050000 0.0917 rs17160824   1.96        rs3766191 \n",
       "4 SCNN1D    1   1220000 1230000 0.1704 rs9660180    4.89        rs11260570\n",
       "5 MXRA8     1   1290000 1300000 0.0503 rs9660180    4.89        rs1739855 \n",
       "6 LOC148413 1   1330000 1340000 0.0648 rs9660180    4.89        rs2649588 \n",
       "  EQTL.R2 ⋯ NSNP NWGT MODEL MODELCV.R2 MODELCV.PV TWAS.Z   TWAS.P PERM.PV\n",
       "1 0.0865  ⋯ 159    4  lasso 0.084282   1.89e-10   -0.96910 0.332  0      \n",
       "2 0.0521  ⋯ 200    6  lasso 0.062644   4.15e-08   -0.44390 0.657  0      \n",
       "3 0.0266  ⋯ 212    9  enet  0.070706   5.63e-09   -1.51971 0.129  0      \n",
       "4 0.0840  ⋯ 248  248  bslmm 0.114216   9.28e-14    0.76111 0.447  0      \n",
       "5 0.0206  ⋯ 258    7  lasso 0.035945   2.95e-05   -0.17818 0.859  0      \n",
       "6 0.0071  ⋯ 270   13  enet  0.058540   1.14e-07   -1.06427 0.287  0      \n",
       "  PERM.N PERM.ANL_PV\n",
       "1 0      0          \n",
       "2 0      0          \n",
       "3 0      0          \n",
       "4 0      0          \n",
       "5 0      0          \n",
       "6 0      0          "
      ]
     },
     "metadata": {},
     "output_type": "display_data"
    }
   ],
   "source": [
    "library(RHOGE)\n",
    "\n",
    "# example BMI TWAS results from FUSION\n",
    "data(bmi)\n",
    "head(bmi)\n"
   ]
  },
  {
   "cell_type": "code",
   "execution_count": null,
   "metadata": {},
   "outputs": [],
   "source": [
    "# example triglyceride TWAS results from FUSION\n",
    "data(tg)\n",
    "head(tg)"
   ]
  },
  {
   "cell_type": "code",
   "execution_count": 2,
   "metadata": {},
   "outputs": [
    {
     "data": {
      "text/html": [
       "<table>\n",
       "<caption>A data.frame: 1 × 5</caption>\n",
       "<thead>\n",
       "\t<tr><th></th><th scope=col>RHOGE</th><th scope=col>SE</th><th scope=col>TSTAT</th><th scope=col>DF</th><th scope=col>P</th></tr>\n",
       "\t<tr><th></th><th scope=col>&lt;dbl&gt;</th><th scope=col>&lt;dbl&gt;</th><th scope=col>&lt;dbl&gt;</th><th scope=col>&lt;dbl&gt;</th><th scope=col>&lt;dbl&gt;</th></tr>\n",
       "</thead>\n",
       "<tbody>\n",
       "\t<tr><th scope=row>1</th><td>0.2133573</td><td>0.05683608</td><td>3.753906</td><td>461</td><td>0.0001963482</td></tr>\n",
       "</tbody>\n",
       "</table>\n"
      ],
      "text/latex": [
       "A data.frame: 1 × 5\n",
       "\\begin{tabular}{r|lllll}\n",
       "  & RHOGE & SE & TSTAT & DF & P\\\\\n",
       "  & <dbl> & <dbl> & <dbl> & <dbl> & <dbl>\\\\\n",
       "\\hline\n",
       "\t1 & 0.2133573 & 0.05683608 & 3.753906 & 461 & 0.0001963482\\\\\n",
       "\\end{tabular}\n"
      ],
      "text/markdown": [
       "\n",
       "A data.frame: 1 × 5\n",
       "\n",
       "| <!--/--> | RHOGE &lt;dbl&gt; | SE &lt;dbl&gt; | TSTAT &lt;dbl&gt; | DF &lt;dbl&gt; | P &lt;dbl&gt; |\n",
       "|---|---|---|---|---|---|\n",
       "| 1 | 0.2133573 | 0.05683608 | 3.753906 | 461 | 0.0001963482 |\n",
       "\n"
      ],
      "text/plain": [
       "  RHOGE     SE         TSTAT    DF  P           \n",
       "1 0.2133573 0.05683608 3.753906 461 0.0001963482"
      ]
     },
     "metadata": {},
     "output_type": "display_data"
    }
   ],
   "source": [
    "# Estimate rho_ge genome-wide for BMI and Triglyerides and approximate sample sizes\n",
    "ge_cor_res <- rhoge.gw(bmi, tg, 14000, 91000)\n",
    "head(ge_cor_res)"
   ]
  },
  {
   "cell_type": "code",
   "execution_count": 3,
   "metadata": {},
   "outputs": [
    {
     "data": {
      "text/html": [
       "<table>\n",
       "<caption>A tibble: 6 × 3</caption>\n",
       "<thead>\n",
       "\t<tr><th scope=col>CHR</th><th scope=col>START</th><th scope=col>STOP</th></tr>\n",
       "\t<tr><th scope=col>&lt;int&gt;</th><th scope=col>&lt;int&gt;</th><th scope=col>&lt;int&gt;</th></tr>\n",
       "</thead>\n",
       "<tbody>\n",
       "\t<tr><td>1</td><td>  10583</td><td>1892607</td></tr>\n",
       "\t<tr><td>1</td><td>1892607</td><td>3582736</td></tr>\n",
       "\t<tr><td>1</td><td>3582736</td><td>4380811</td></tr>\n",
       "\t<tr><td>1</td><td>4380811</td><td>5913893</td></tr>\n",
       "\t<tr><td>1</td><td>5913893</td><td>7247335</td></tr>\n",
       "\t<tr><td>1</td><td>7247335</td><td>9365199</td></tr>\n",
       "</tbody>\n",
       "</table>\n"
      ],
      "text/latex": [
       "A tibble: 6 × 3\n",
       "\\begin{tabular}{lll}\n",
       " CHR & START & STOP\\\\\n",
       " <int> & <int> & <int>\\\\\n",
       "\\hline\n",
       "\t 1 &   10583 & 1892607\\\\\n",
       "\t 1 & 1892607 & 3582736\\\\\n",
       "\t 1 & 3582736 & 4380811\\\\\n",
       "\t 1 & 4380811 & 5913893\\\\\n",
       "\t 1 & 5913893 & 7247335\\\\\n",
       "\t 1 & 7247335 & 9365199\\\\\n",
       "\\end{tabular}\n"
      ],
      "text/markdown": [
       "\n",
       "A tibble: 6 × 3\n",
       "\n",
       "| CHR &lt;int&gt; | START &lt;int&gt; | STOP &lt;int&gt; |\n",
       "|---|---|---|\n",
       "| 1 |   10583 | 1892607 |\n",
       "| 1 | 1892607 | 3582736 |\n",
       "| 1 | 3582736 | 4380811 |\n",
       "| 1 | 4380811 | 5913893 |\n",
       "| 1 | 5913893 | 7247335 |\n",
       "| 1 | 7247335 | 9365199 |\n",
       "\n"
      ],
      "text/plain": [
       "  CHR START   STOP   \n",
       "1 1     10583 1892607\n",
       "2 1   1892607 3582736\n",
       "3 1   3582736 4380811\n",
       "4 1   4380811 5913893\n",
       "5 1   5913893 7247335\n",
       "6 1   7247335 9365199"
      ]
     },
     "metadata": {},
     "output_type": "display_data"
    }
   ],
   "source": [
    "data(\"grch37.eur.loci\")\n",
    "head(grch37.eur.loci)"
   ]
  },
  {
   "cell_type": "code",
   "execution_count": 4,
   "metadata": {},
   "outputs": [
    {
     "name": "stderr",
     "output_type": "stream",
     "text": [
      "Loading required package: Matrix\n",
      "\n"
     ]
    }
   ],
   "source": [
    "library(\"nadiv\")"
   ]
  },
  {
   "cell_type": "code",
   "execution_count": 5,
   "metadata": {},
   "outputs": [
    {
     "data": {
      "text/html": [
       "<dl>\n",
       "\t<dt>$lambda</dt>\n",
       "\t\t<dd>8.1239999999998</dd>\n",
       "\t<dt>$Pval</dt>\n",
       "\t\t<dd>0.00436830718723069</dd>\n",
       "\t<dt>$corrected.Pval</dt>\n",
       "\t\t<dd>FALSE</dd>\n",
       "</dl>\n"
      ],
      "text/latex": [
       "\\begin{description}\n",
       "\\item[\\$lambda] 8.1239999999998\n",
       "\\item[\\$Pval] 0.00436830718723069\n",
       "\\item[\\$corrected.Pval] FALSE\n",
       "\\end{description}\n"
      ],
      "text/markdown": [
       "$lambda\n",
       ":   8.1239999999998\n",
       "$Pval\n",
       ":   0.00436830718723069\n",
       "$corrected.Pval\n",
       ":   FALSE\n",
       "\n",
       "\n"
      ],
      "text/plain": [
       "$lambda\n",
       "[1] 8.124\n",
       "\n",
       "$Pval\n",
       "[1] 0.004368307\n",
       "\n",
       "$corrected.Pval\n",
       "[1] FALSE\n"
      ]
     },
     "metadata": {},
     "output_type": "display_data"
    }
   ],
   "source": [
    "(noBC <- LRTest(full = -2254.148, reduced = -2258.210,\n",
    "\tdf = 1, boundaryCorrection = FALSE))"
   ]
  },
  {
   "cell_type": "code",
   "execution_count": 6,
   "metadata": {},
   "outputs": [
    {
     "data": {
      "text/html": [
       "<dl>\n",
       "\t<dt>$lambda</dt>\n",
       "\t\t<dd>8.1239999999998</dd>\n",
       "\t<dt>$Pval</dt>\n",
       "\t\t<dd>0.00218415359361534</dd>\n",
       "\t<dt>$corrected.Pval</dt>\n",
       "\t\t<dd>TRUE</dd>\n",
       "</dl>\n"
      ],
      "text/latex": [
       "\\begin{description}\n",
       "\\item[\\$lambda] 8.1239999999998\n",
       "\\item[\\$Pval] 0.00218415359361534\n",
       "\\item[\\$corrected.Pval] TRUE\n",
       "\\end{description}\n"
      ],
      "text/markdown": [
       "$lambda\n",
       ":   8.1239999999998\n",
       "$Pval\n",
       ":   0.00218415359361534\n",
       "$corrected.Pval\n",
       ":   TRUE\n",
       "\n",
       "\n"
      ],
      "text/plain": [
       "$lambda\n",
       "[1] 8.124\n",
       "\n",
       "$Pval\n",
       "[1] 0.002184154\n",
       "\n",
       "$corrected.Pval\n",
       "[1] TRUE\n"
      ]
     },
     "metadata": {},
     "output_type": "display_data"
    }
   ],
   "source": [
    "(withBC <- LRTest(full = -2254.148, reduced = -2258.210,\n",
    "\tdf = 1, boundaryCorrection = TRUE))\n",
    "stopifnot(noBC$Pval == 2*withBC$Pval)"
   ]
  },
  {
   "cell_type": "code",
   "execution_count": 7,
   "metadata": {},
   "outputs": [],
   "source": [
    "  rm(list = ls())\n",
    "  set.seed(101)\n",
    "  library(nadiv)\n",
    "  # create pedigree\n",
    "  warcolak <- simPedDFC(F = 75, gpn = 4, fsn = 4, s = 2)\n",
    "  names(warcolak)[1:3] <- c(\"ID\", \"Dam\", \"Sire\")\n",
    "  warcolak$trait2 <- warcolak$trait1 <- NA\n",
    "  # Define covariance matrices for random effects:\n",
    "  ## Autosomal additive genetic (trait1)\n",
    "  Ga_t1 <- matrix(c(0.4, rep(0.399999, 2), 0.4), 2, 2)\n",
    "  ## Autosomal additive genetic (trait2)\n",
    "  Ga_t2 <- matrix(c(0.3, rep(0.299999, 2), 0.3), 2, 2)\n",
    "  ## Sex-chromosomal additive genetic (trait2)\n",
    "  Gs_t2 <- matrix(c(0.1, rep(0.099999, 2), 0.1), 2, 2)\n",
    "  ## Autosomal dominance genetic\n",
    "  Gd <- matrix(c(0.3, rep(0.299999, 2), 0.3), 2, 2)\n",
    "  ## Environmental (or residual)\n",
    "  ### Assumes no correlated environmental effects between sexes\n",
    "  R <- diag(c(0.3, 0.3))"
   ]
  },
  {
   "cell_type": "code",
   "execution_count": 9,
   "metadata": {},
   "outputs": [
    {
     "name": "stdout",
     "output_type": "stream",
     "text": [
      "starting to make D....done \n"
     ]
    },
    {
     "data": {
      "text/html": [
       "<table>\n",
       "<caption>A matrix: 2 × 2 of type dbl</caption>\n",
       "<tbody>\n",
       "\t<tr><td>0.2897524</td><td>0.2897498</td></tr>\n",
       "\t<tr><td>0.2897498</td><td>0.2897492</td></tr>\n",
       "</tbody>\n",
       "</table>\n"
      ],
      "text/latex": [
       "A matrix: 2 × 2 of type dbl\n",
       "\\begin{tabular}{ll}\n",
       "\t 0.2897524 & 0.2897498\\\\\n",
       "\t 0.2897498 & 0.2897492\\\\\n",
       "\\end{tabular}\n"
      ],
      "text/markdown": [
       "\n",
       "A matrix: 2 × 2 of type dbl\n",
       "\n",
       "| 0.2897524 | 0.2897498 |\n",
       "| 0.2897498 | 0.2897492 |\n",
       "\n"
      ],
      "text/plain": [
       "     [,1]      [,2]     \n",
       "[1,] 0.2897524 0.2897498\n",
       "[2,] 0.2897498 0.2897492"
      ]
     },
     "metadata": {},
     "output_type": "display_data"
    },
    {
     "name": "stdout",
     "output_type": "stream",
     "text": [
      "starting to make D....done \n"
     ]
    },
    {
     "data": {
      "text/html": [
       "<table>\n",
       "<caption>A matrix: 2 × 2 of type dbl</caption>\n",
       "<tbody>\n",
       "\t<tr><td>0.2912346</td><td>0.2912446</td></tr>\n",
       "\t<tr><td>0.2912446</td><td>0.2912566</td></tr>\n",
       "</tbody>\n",
       "</table>\n"
      ],
      "text/latex": [
       "A matrix: 2 × 2 of type dbl\n",
       "\\begin{tabular}{ll}\n",
       "\t 0.2912346 & 0.2912446\\\\\n",
       "\t 0.2912446 & 0.2912566\\\\\n",
       "\\end{tabular}\n"
      ],
      "text/markdown": [
       "\n",
       "A matrix: 2 × 2 of type dbl\n",
       "\n",
       "| 0.2912346 | 0.2912446 |\n",
       "| 0.2912446 | 0.2912566 |\n",
       "\n"
      ],
      "text/plain": [
       "     [,1]      [,2]     \n",
       "[1,] 0.2912346 0.2912446\n",
       "[2,] 0.2912446 0.2912566"
      ]
     },
     "metadata": {},
     "output_type": "display_data"
    }
   ],
   "source": [
    "\n",
    "  ## Dominance genetic\n",
    "  ### trait1 \n",
    "  tmp_d <- grfx(pedn, G = Gd, incidence = makeD(warcolak[, 1:3], invertD = FALSE)$D)\n",
    "    var(tmp_d)\n",
    "  warcolak$t1_d <- tmp_d[cbind(seq(pedn), sexcol)]\n",
    "  ### trait2\n",
    "  tmp_d <- grfx(pedn, G = Gd, incidence = makeD(warcolak[, 1:3], invertD = FALSE)$D)\n",
    "    var(tmp_d)\n",
    "  warcolak$t2_d <- tmp_d[cbind(seq(pedn), sexcol)]"
   ]
  },
  {
   "cell_type": "code",
   "execution_count": 10,
   "metadata": {},
   "outputs": [
    {
     "name": "stderr",
     "output_type": "stream",
     "text": [
      "Warning message in grfx(pedn, G = R, incidence = NULL):\n",
      "“Incidence matrix used = Identity matrix”\n"
     ]
    },
    {
     "data": {
      "text/html": [
       "<table>\n",
       "<caption>A matrix: 2 × 2 of type dbl</caption>\n",
       "<tbody>\n",
       "\t<tr><td> 0.2976295867</td><td>-0.0008137167</td></tr>\n",
       "\t<tr><td>-0.0008137167</td><td> 0.3003321215</td></tr>\n",
       "</tbody>\n",
       "</table>\n"
      ],
      "text/latex": [
       "A matrix: 2 × 2 of type dbl\n",
       "\\begin{tabular}{ll}\n",
       "\t  0.2976295867 & -0.0008137167\\\\\n",
       "\t -0.0008137167 &  0.3003321215\\\\\n",
       "\\end{tabular}\n"
      ],
      "text/markdown": [
       "\n",
       "A matrix: 2 × 2 of type dbl\n",
       "\n",
       "|  0.2976295867 | -0.0008137167 |\n",
       "| -0.0008137167 |  0.3003321215 |\n",
       "\n"
      ],
      "text/plain": [
       "     [,1]          [,2]         \n",
       "[1,]  0.2976295867 -0.0008137167\n",
       "[2,] -0.0008137167  0.3003321215"
      ]
     },
     "metadata": {},
     "output_type": "display_data"
    },
    {
     "name": "stderr",
     "output_type": "stream",
     "text": [
      "Warning message in grfx(pedn, G = R, incidence = NULL):\n",
      "“Incidence matrix used = Identity matrix”\n"
     ]
    },
    {
     "data": {
      "text/html": [
       "<table>\n",
       "<caption>A matrix: 2 × 2 of type dbl</caption>\n",
       "<tbody>\n",
       "\t<tr><td> 0.298459353</td><td>-0.001988546</td></tr>\n",
       "\t<tr><td>-0.001988546</td><td> 0.295705748</td></tr>\n",
       "</tbody>\n",
       "</table>\n"
      ],
      "text/latex": [
       "A matrix: 2 × 2 of type dbl\n",
       "\\begin{tabular}{ll}\n",
       "\t  0.298459353 & -0.001988546\\\\\n",
       "\t -0.001988546 &  0.295705748\\\\\n",
       "\\end{tabular}\n"
      ],
      "text/markdown": [
       "\n",
       "A matrix: 2 × 2 of type dbl\n",
       "\n",
       "|  0.298459353 | -0.001988546 |\n",
       "| -0.001988546 |  0.295705748 |\n",
       "\n"
      ],
      "text/plain": [
       "     [,1]         [,2]        \n",
       "[1,]  0.298459353 -0.001988546\n",
       "[2,] -0.001988546  0.295705748"
      ]
     },
     "metadata": {},
     "output_type": "display_data"
    }
   ],
   "source": [
    " ## Residual\n",
    "  ### trait1\n",
    "  tmp_r <- grfx(pedn, G = R, incidence = NULL) # warning of identity matrix\n",
    "    var(tmp_r)\n",
    "  warcolak$t1_r <- tmp_r[cbind(seq(pedn), sexcol)]\n",
    "  ### trait2\n",
    "  tmp_r <- grfx(pedn, G = R, incidence = NULL) # warning of identity matrix\n",
    "    var(tmp_r)\n",
    "  warcolak$t2_r <- tmp_r[cbind(seq(pedn), sexcol)]"
   ]
  },
  {
   "cell_type": "code",
   "execution_count": null,
   "metadata": {},
   "outputs": [],
   "source": []
  }
 ],
 "metadata": {
  "kernelspec": {
   "display_name": "R",
   "language": "R",
   "name": "ir"
  },
  "language_info": {
   "codemirror_mode": "r",
   "file_extension": ".r",
   "mimetype": "text/x-r-source",
   "name": "R",
   "pygments_lexer": "r",
   "version": "4.0.3"
  }
 },
 "nbformat": 4,
 "nbformat_minor": 4
}
