{
 "cells": [
  {
   "cell_type": "code",
   "execution_count": 1,
   "metadata": {},
   "outputs": [
    {
     "name": "stdout",
     "output_type": "stream",
     "text": [
      "\u001b[0;32mComputing univariate association.\u001b[0m\n",
      "\u001b[0;34mSelecting the best hyperparameters...\u001b[0m\n",
      "\u001b[0;32mRunning models.\u001b[0m\n",
      "\u001b[0;32mFinding best model.\u001b[0m\n",
      "\u001b[0;34mSearching ConES with eta = 1e-06 and lambda = 1e-07\n",
      "\u001b[0m\n",
      "eta = 1e-06 \n",
      "lambda = 1e-07 \n"
     ]
    },
    {
     "data": {
      "text/html": [
       "<table>\n",
       "<caption>A data.frame: 6 × 9</caption>\n",
       "<thead>\n",
       "\t<tr><th></th><th scope=col>snp</th><th scope=col>chr</th><th scope=col>cm</th><th scope=col>pos</th><th scope=col>allele.1</th><th scope=col>allele.2</th><th scope=col>c</th><th scope=col>selected</th><th scope=col>module</th></tr>\n",
       "\t<tr><th></th><th scope=col>&lt;chr&gt;</th><th scope=col>&lt;int&gt;</th><th scope=col>&lt;int&gt;</th><th scope=col>&lt;int&gt;</th><th scope=col>&lt;chr&gt;</th><th scope=col>&lt;chr&gt;</th><th scope=col>&lt;dbl&gt;</th><th scope=col>&lt;lgl&gt;</th><th scope=col>&lt;dbl&gt;</th></tr>\n",
       "</thead>\n",
       "<tbody>\n",
       "\t<tr><th scope=row>3</th><td>1A1</td><td>1</td><td>0</td><td>10</td><td>A</td><td>G</td><td>95.48869</td><td>TRUE</td><td>1</td></tr>\n",
       "\t<tr><th scope=row>4</th><td>1A2</td><td>1</td><td>0</td><td>20</td><td>A</td><td>G</td><td>95.48869</td><td>TRUE</td><td>1</td></tr>\n",
       "\t<tr><th scope=row>5</th><td>1A3</td><td>1</td><td>0</td><td>30</td><td>A</td><td>G</td><td>94.15686</td><td>TRUE</td><td>1</td></tr>\n",
       "\t<tr><th scope=row>6</th><td>1A4</td><td>1</td><td>0</td><td>40</td><td>A</td><td>G</td><td>96.15385</td><td>TRUE</td><td>1</td></tr>\n",
       "\t<tr><th scope=row>7</th><td>1A5</td><td>1</td><td>0</td><td>50</td><td>A</td><td>G</td><td>94.15686</td><td>TRUE</td><td>1</td></tr>\n",
       "\t<tr><th scope=row>8</th><td>1A6</td><td>1</td><td>0</td><td>60</td><td>A</td><td>G</td><td>93.35843</td><td>TRUE</td><td>1</td></tr>\n",
       "</tbody>\n",
       "</table>\n"
      ],
      "text/latex": [
       "A data.frame: 6 × 9\n",
       "\\begin{tabular}{r|lllllllll}\n",
       "  & snp & chr & cm & pos & allele.1 & allele.2 & c & selected & module\\\\\n",
       "  & <chr> & <int> & <int> & <int> & <chr> & <chr> & <dbl> & <lgl> & <dbl>\\\\\n",
       "\\hline\n",
       "\t3 & 1A1 & 1 & 0 & 10 & A & G & 95.48869 & TRUE & 1\\\\\n",
       "\t4 & 1A2 & 1 & 0 & 20 & A & G & 95.48869 & TRUE & 1\\\\\n",
       "\t5 & 1A3 & 1 & 0 & 30 & A & G & 94.15686 & TRUE & 1\\\\\n",
       "\t6 & 1A4 & 1 & 0 & 40 & A & G & 96.15385 & TRUE & 1\\\\\n",
       "\t7 & 1A5 & 1 & 0 & 50 & A & G & 94.15686 & TRUE & 1\\\\\n",
       "\t8 & 1A6 & 1 & 0 & 60 & A & G & 93.35843 & TRUE & 1\\\\\n",
       "\\end{tabular}\n"
      ],
      "text/markdown": [
       "\n",
       "A data.frame: 6 × 9\n",
       "\n",
       "| <!--/--> | snp &lt;chr&gt; | chr &lt;int&gt; | cm &lt;int&gt; | pos &lt;int&gt; | allele.1 &lt;chr&gt; | allele.2 &lt;chr&gt; | c &lt;dbl&gt; | selected &lt;lgl&gt; | module &lt;dbl&gt; |\n",
       "|---|---|---|---|---|---|---|---|---|---|\n",
       "| 3 | 1A1 | 1 | 0 | 10 | A | G | 95.48869 | TRUE | 1 |\n",
       "| 4 | 1A2 | 1 | 0 | 20 | A | G | 95.48869 | TRUE | 1 |\n",
       "| 5 | 1A3 | 1 | 0 | 30 | A | G | 94.15686 | TRUE | 1 |\n",
       "| 6 | 1A4 | 1 | 0 | 40 | A | G | 96.15385 | TRUE | 1 |\n",
       "| 7 | 1A5 | 1 | 0 | 50 | A | G | 94.15686 | TRUE | 1 |\n",
       "| 8 | 1A6 | 1 | 0 | 60 | A | G | 93.35843 | TRUE | 1 |\n",
       "\n"
      ],
      "text/plain": [
       "  snp chr cm pos allele.1 allele.2 c        selected module\n",
       "3 1A1 1   0  10  A        G        95.48869 TRUE     1     \n",
       "4 1A2 1   0  20  A        G        95.48869 TRUE     1     \n",
       "5 1A3 1   0  30  A        G        94.15686 TRUE     1     \n",
       "6 1A4 1   0  40  A        G        96.15385 TRUE     1     \n",
       "7 1A5 1   0  50  A        G        94.15686 TRUE     1     \n",
       "8 1A6 1   0  60  A        G        93.35843 TRUE     1     "
      ]
     },
     "metadata": {},
     "output_type": "display_data"
    }
   ],
   "source": [
    "library(\"martini\")\n",
    "data(minigwas)\n",
    "# 2. Create the SNP network: GS (structural information), GM (GS + gene \n",
    "# annotation information) or GI (GM + protein-protein interaction information)\n",
    "gs <- get_GS_network(minigwas)\n",
    "# 3. Find connected, explanatory SNPs (cones)\n",
    "cones <- search_cones(minigwas, gs)\n",
    "\n",
    "# cones$selected informs about whether the SNP is selected as cones or not\n",
    "head(cones)"
   ]
  },
  {
   "cell_type": "code",
   "execution_count": null,
   "metadata": {},
   "outputs": [],
   "source": []
  },
  {
   "cell_type": "code",
   "execution_count": null,
   "metadata": {},
   "outputs": [],
   "source": []
  }
 ],
 "metadata": {
  "kernelspec": {
   "display_name": "R",
   "language": "R",
   "name": "ir"
  },
  "language_info": {
   "codemirror_mode": "r",
   "file_extension": ".r",
   "mimetype": "text/x-r-source",
   "name": "R",
   "pygments_lexer": "r",
   "version": "4.0.3"
  }
 },
 "nbformat": 4,
 "nbformat_minor": 4
}
