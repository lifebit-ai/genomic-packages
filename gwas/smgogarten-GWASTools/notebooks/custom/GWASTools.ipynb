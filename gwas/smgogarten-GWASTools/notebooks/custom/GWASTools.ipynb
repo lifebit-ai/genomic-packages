{
 "cells": [
  {
   "cell_type": "code",
   "execution_count": 2,
   "metadata": {},
   "outputs": [
    {
     "data": {
      "text/html": [
       "<style>\n",
       ".list-inline {list-style: none; margin:0; padding: 0}\n",
       ".list-inline>li {display: inline-block}\n",
       ".list-inline>li:not(:last-child)::after {content: \"\\00b7\"; padding: 0 .5ex}\n",
       "</style>\n",
       "<ol class=list-inline><li>'snpID'</li><li>'chromosome'</li><li>'position'</li><li>'rsID'</li><li>'alleleA'</li><li>'alleleB'</li><li>'BeadSetID'</li><li>'IntensityOnly'</li><li>'tAA'</li><li>'tAB'</li><li>'tBB'</li><li>'rAA'</li><li>'rAB'</li><li>'rBB'</li></ol>\n"
      ],
      "text/latex": [
       "\\begin{enumerate*}\n",
       "\\item 'snpID'\n",
       "\\item 'chromosome'\n",
       "\\item 'position'\n",
       "\\item 'rsID'\n",
       "\\item 'alleleA'\n",
       "\\item 'alleleB'\n",
       "\\item 'BeadSetID'\n",
       "\\item 'IntensityOnly'\n",
       "\\item 'tAA'\n",
       "\\item 'tAB'\n",
       "\\item 'tBB'\n",
       "\\item 'rAA'\n",
       "\\item 'rAB'\n",
       "\\item 'rBB'\n",
       "\\end{enumerate*}\n"
      ],
      "text/markdown": [
       "1. 'snpID'\n",
       "2. 'chromosome'\n",
       "3. 'position'\n",
       "4. 'rsID'\n",
       "5. 'alleleA'\n",
       "6. 'alleleB'\n",
       "7. 'BeadSetID'\n",
       "8. 'IntensityOnly'\n",
       "9. 'tAA'\n",
       "10. 'tAB'\n",
       "11. 'tBB'\n",
       "12. 'rAA'\n",
       "13. 'rAB'\n",
       "14. 'rBB'\n",
       "\n",
       "\n"
      ],
      "text/plain": [
       " [1] \"snpID\"         \"chromosome\"    \"position\"      \"rsID\"         \n",
       " [5] \"alleleA\"       \"alleleB\"       \"BeadSetID\"     \"IntensityOnly\"\n",
       " [9] \"tAA\"           \"tAB\"           \"tBB\"           \"rAA\"          \n",
       "[13] \"rAB\"           \"rBB\"          "
      ]
     },
     "metadata": {},
     "output_type": "display_data"
    },
    {
     "data": {
      "text/html": [
       "<table>\n",
       "<caption>A data.frame: 6 × 14</caption>\n",
       "<thead>\n",
       "\t<tr><th></th><th scope=col>snpID</th><th scope=col>chromosome</th><th scope=col>position</th><th scope=col>rsID</th><th scope=col>alleleA</th><th scope=col>alleleB</th><th scope=col>BeadSetID</th><th scope=col>IntensityOnly</th><th scope=col>tAA</th><th scope=col>tAB</th><th scope=col>tBB</th><th scope=col>rAA</th><th scope=col>rAB</th><th scope=col>rBB</th></tr>\n",
       "\t<tr><th></th><th scope=col>&lt;int&gt;</th><th scope=col>&lt;int&gt;</th><th scope=col>&lt;int&gt;</th><th scope=col>&lt;chr&gt;</th><th scope=col>&lt;chr&gt;</th><th scope=col>&lt;chr&gt;</th><th scope=col>&lt;int&gt;</th><th scope=col>&lt;int&gt;</th><th scope=col>&lt;dbl&gt;</th><th scope=col>&lt;dbl&gt;</th><th scope=col>&lt;dbl&gt;</th><th scope=col>&lt;dbl&gt;</th><th scope=col>&lt;dbl&gt;</th><th scope=col>&lt;dbl&gt;</th></tr>\n",
       "</thead>\n",
       "<tbody>\n",
       "\t<tr><th scope=row>1</th><td>999447</td><td>21</td><td>13733610</td><td>rs3132407</td><td>A</td><td>G</td><td>1185447327</td><td>1</td><td>0.013743570</td><td>0.3290431</td><td>0.9184624</td><td>1.5622030</td><td>1.5927530</td><td>1.6142590</td></tr>\n",
       "\t<tr><th scope=row>2</th><td>999465</td><td>21</td><td>13852569</td><td>rs2775671</td><td>T</td><td>C</td><td>1169708488</td><td>0</td><td>0.063259460</td><td>0.5440393</td><td>0.9796721</td><td>0.4431986</td><td>0.4431986</td><td>0.4431986</td></tr>\n",
       "\t<tr><th scope=row>3</th><td>999493</td><td>21</td><td>14038583</td><td>rs2775018</td><td>T</td><td>C</td><td>1192445330</td><td>0</td><td>0.001315146</td><td>0.2623954</td><td>0.5362323</td><td>2.6349810</td><td>2.3149340</td><td>2.0012760</td></tr>\n",
       "\t<tr><th scope=row>4</th><td>999512</td><td>21</td><td>14136579</td><td>rs3115511</td><td>T</td><td>C</td><td>1149617207</td><td>0</td><td>0.011004820</td><td>0.5692499</td><td>0.9846884</td><td>0.8781826</td><td>0.9453412</td><td>0.8209958</td></tr>\n",
       "\t<tr><th scope=row>5</th><td>999561</td><td>21</td><td>14396024</td><td>rs2822404</td><td>T</td><td>C</td><td>1149961944</td><td>0</td><td>0.040206810</td><td>0.5691788</td><td>0.9902423</td><td>1.0941700</td><td>1.1270790</td><td>0.9898759</td></tr>\n",
       "\t<tr><th scope=row>6</th><td>999567</td><td>21</td><td>14404476</td><td>rs1556276</td><td>A</td><td>G</td><td>1149617207</td><td>0</td><td>0.030895730</td><td>0.6842008</td><td>0.9837771</td><td>0.5954081</td><td>0.7681253</td><td>0.7900150</td></tr>\n",
       "</tbody>\n",
       "</table>\n"
      ],
      "text/latex": [
       "A data.frame: 6 × 14\n",
       "\\begin{tabular}{r|llllllllllllll}\n",
       "  & snpID & chromosome & position & rsID & alleleA & alleleB & BeadSetID & IntensityOnly & tAA & tAB & tBB & rAA & rAB & rBB\\\\\n",
       "  & <int> & <int> & <int> & <chr> & <chr> & <chr> & <int> & <int> & <dbl> & <dbl> & <dbl> & <dbl> & <dbl> & <dbl>\\\\\n",
       "\\hline\n",
       "\t1 & 999447 & 21 & 13733610 & rs3132407 & A & G & 1185447327 & 1 & 0.013743570 & 0.3290431 & 0.9184624 & 1.5622030 & 1.5927530 & 1.6142590\\\\\n",
       "\t2 & 999465 & 21 & 13852569 & rs2775671 & T & C & 1169708488 & 0 & 0.063259460 & 0.5440393 & 0.9796721 & 0.4431986 & 0.4431986 & 0.4431986\\\\\n",
       "\t3 & 999493 & 21 & 14038583 & rs2775018 & T & C & 1192445330 & 0 & 0.001315146 & 0.2623954 & 0.5362323 & 2.6349810 & 2.3149340 & 2.0012760\\\\\n",
       "\t4 & 999512 & 21 & 14136579 & rs3115511 & T & C & 1149617207 & 0 & 0.011004820 & 0.5692499 & 0.9846884 & 0.8781826 & 0.9453412 & 0.8209958\\\\\n",
       "\t5 & 999561 & 21 & 14396024 & rs2822404 & T & C & 1149961944 & 0 & 0.040206810 & 0.5691788 & 0.9902423 & 1.0941700 & 1.1270790 & 0.9898759\\\\\n",
       "\t6 & 999567 & 21 & 14404476 & rs1556276 & A & G & 1149617207 & 0 & 0.030895730 & 0.6842008 & 0.9837771 & 0.5954081 & 0.7681253 & 0.7900150\\\\\n",
       "\\end{tabular}\n"
      ],
      "text/markdown": [
       "\n",
       "A data.frame: 6 × 14\n",
       "\n",
       "| <!--/--> | snpID &lt;int&gt; | chromosome &lt;int&gt; | position &lt;int&gt; | rsID &lt;chr&gt; | alleleA &lt;chr&gt; | alleleB &lt;chr&gt; | BeadSetID &lt;int&gt; | IntensityOnly &lt;int&gt; | tAA &lt;dbl&gt; | tAB &lt;dbl&gt; | tBB &lt;dbl&gt; | rAA &lt;dbl&gt; | rAB &lt;dbl&gt; | rBB &lt;dbl&gt; |\n",
       "|---|---|---|---|---|---|---|---|---|---|---|---|---|---|---|\n",
       "| 1 | 999447 | 21 | 13733610 | rs3132407 | A | G | 1185447327 | 1 | 0.013743570 | 0.3290431 | 0.9184624 | 1.5622030 | 1.5927530 | 1.6142590 |\n",
       "| 2 | 999465 | 21 | 13852569 | rs2775671 | T | C | 1169708488 | 0 | 0.063259460 | 0.5440393 | 0.9796721 | 0.4431986 | 0.4431986 | 0.4431986 |\n",
       "| 3 | 999493 | 21 | 14038583 | rs2775018 | T | C | 1192445330 | 0 | 0.001315146 | 0.2623954 | 0.5362323 | 2.6349810 | 2.3149340 | 2.0012760 |\n",
       "| 4 | 999512 | 21 | 14136579 | rs3115511 | T | C | 1149617207 | 0 | 0.011004820 | 0.5692499 | 0.9846884 | 0.8781826 | 0.9453412 | 0.8209958 |\n",
       "| 5 | 999561 | 21 | 14396024 | rs2822404 | T | C | 1149961944 | 0 | 0.040206810 | 0.5691788 | 0.9902423 | 1.0941700 | 1.1270790 | 0.9898759 |\n",
       "| 6 | 999567 | 21 | 14404476 | rs1556276 | A | G | 1149617207 | 0 | 0.030895730 | 0.6842008 | 0.9837771 | 0.5954081 | 0.7681253 | 0.7900150 |\n",
       "\n"
      ],
      "text/plain": [
       "  snpID  chromosome position rsID      alleleA alleleB BeadSetID  IntensityOnly\n",
       "1 999447 21         13733610 rs3132407 A       G       1185447327 1            \n",
       "2 999465 21         13852569 rs2775671 T       C       1169708488 0            \n",
       "3 999493 21         14038583 rs2775018 T       C       1192445330 0            \n",
       "4 999512 21         14136579 rs3115511 T       C       1149617207 0            \n",
       "5 999561 21         14396024 rs2822404 T       C       1149961944 0            \n",
       "6 999567 21         14404476 rs1556276 A       G       1149617207 0            \n",
       "  tAA         tAB       tBB       rAA       rAB       rBB      \n",
       "1 0.013743570 0.3290431 0.9184624 1.5622030 1.5927530 1.6142590\n",
       "2 0.063259460 0.5440393 0.9796721 0.4431986 0.4431986 0.4431986\n",
       "3 0.001315146 0.2623954 0.5362323 2.6349810 2.3149340 2.0012760\n",
       "4 0.011004820 0.5692499 0.9846884 0.8781826 0.9453412 0.8209958\n",
       "5 0.040206810 0.5691788 0.9902423 1.0941700 1.1270790 0.9898759\n",
       "6 0.030895730 0.6842008 0.9837771 0.5954081 0.7681253 0.7900150"
      ]
     },
     "metadata": {},
     "output_type": "display_data"
    }
   ],
   "source": [
    "library(GWASTools)\n",
    "library(GWASdata)\n",
    "# Load the SNP annotation (simple data frame)\n",
    "data(illumina_snp_annot)\n",
    "# Create a SnpAnnotationDataFrame\n",
    "snpAnnot <- SnpAnnotationDataFrame(illumina_snp_annot)\n",
    "# names of columns\n",
    "varLabels(snpAnnot)\n",
    "# data\n",
    "head(pData(snpAnnot))\n",
    "# Add metadata to describe the columns\n",
    "meta <- varMetadata(snpAnnot)\n",
    "meta[c(\"snpID\", \"chromosome\", \"position\", \"rsID\", \"alleleA\", \"alleleB\",\n",
    "  \"BeadSetID\", \"IntensityOnly\", \"tAA\", \"tAB\", \"tBB\", \"rAA\", \"rAB\", \"rBB\"),\n",
    "  \"labelDescription\"] <- c(\"unique integer ID for SNPs\",\n",
    "  paste(\"integer code for chromosome: 1:22=autosomes,\",\n",
    "   \"23=X, 24=pseudoautosomal, 25=Y, 26=Mitochondrial, 27=Unknown\"),\n",
    "  \"base pair position on chromosome (build 36)\",\n",
    "  \"RS identifier\",\n",
    "  \"alelleA\", \"alleleB\",\n",
    "  \"BeadSet ID from Illumina\",\n",
    "  \"1=no genotypes were attempted for this assay\",\n",
    "  \"mean theta for AA cluster\",\n",
    "  \"mean theta for AB cluster\",\n",
    "  \"mean theta for BB cluster\",\n",
    "  \"mean R for AA cluster\",\n",
    "  \"mean R for AB cluster\",\n",
    "  \"mean R for BB cluster\")\n",
    "varMetadata(snpAnnot) <- meta"
   ]
  },
  {
   "cell_type": "code",
   "execution_count": 3,
   "metadata": {},
   "outputs": [
    {
     "data": {
      "text/plain": [
       "chrom\n",
       "  21   22   23   24   25   26 \n",
       "1000 1000 1000  100  100  100 "
      ]
     },
     "metadata": {},
     "output_type": "display_data"
    },
    {
     "data": {
      "text/plain": [
       "chrom\n",
       "  21   22    M    X   XY    Y \n",
       "1000 1000  100 1000  100  100 "
      ]
     },
     "metadata": {},
     "output_type": "display_data"
    }
   ],
   "source": [
    "snpID <- snpAnnot$snpID\n",
    "snpID <- getSnpID(snpAnnot)\n",
    "chrom <- snpAnnot[[\"chromosome\"]]\n",
    "chrom <- getChromosome(snpAnnot)\n",
    "table(chrom)\n",
    "chrom <- getChromosome(snpAnnot, char=TRUE)\n",
    "table(chrom)\n",
    "position <- getPosition(snpAnnot)\n",
    "rsID <- getVariable(snpAnnot, \"rsID\")"
   ]
  },
  {
   "cell_type": "code",
   "execution_count": 4,
   "metadata": {},
   "outputs": [
    {
     "data": {
      "text/html": [
       "<style>\n",
       ".list-inline {list-style: none; margin:0; padding: 0}\n",
       ".list-inline>li {display: inline-block}\n",
       ".list-inline>li:not(:last-child)::after {content: \"\\00b7\"; padding: 0 .5ex}\n",
       "</style>\n",
       "<ol class=list-inline><li>'snpID'</li><li>'chromosome'</li><li>'position'</li><li>'flag'</li></ol>\n"
      ],
      "text/latex": [
       "\\begin{enumerate*}\n",
       "\\item 'snpID'\n",
       "\\item 'chromosome'\n",
       "\\item 'position'\n",
       "\\item 'flag'\n",
       "\\end{enumerate*}\n"
      ],
      "text/markdown": [
       "1. 'snpID'\n",
       "2. 'chromosome'\n",
       "3. 'position'\n",
       "4. 'flag'\n",
       "\n",
       "\n"
      ],
      "text/plain": [
       "[1] \"snpID\"      \"chromosome\" \"position\"   \"flag\"      "
      ]
     },
     "metadata": {},
     "output_type": "display_data"
    }
   ],
   "source": [
    "tmp <- snpAnnot[,c(\"snpID\", \"chromosome\", \"position\")]\n",
    "snp <- getAnnotation(tmp)\n",
    "snp$flag <- sample(c(TRUE, FALSE), nrow(snp), replace=TRUE)\n",
    "pData(tmp) <- snp\n",
    "meta <- getMetadata(tmp)\n",
    "meta[\"flag\", \"labelDescription\"] <- \"flag\"\n",
    "varMetadata(tmp) <- meta\n",
    "getVariableNames(tmp)\n",
    "varLabels(tmp)[4] <- \"FLAG\"\n",
    "rm(tmp)"
   ]
  },
  {
   "cell_type": "code",
   "execution_count": 5,
   "metadata": {},
   "outputs": [
    {
     "data": {
      "text/html": [
       "<style>\n",
       ".list-inline {list-style: none; margin:0; padding: 0}\n",
       ".list-inline>li {display: inline-block}\n",
       ".list-inline>li:not(:last-child)::after {content: \"\\00b7\"; padding: 0 .5ex}\n",
       "</style>\n",
       "<ol class=list-inline><li>'scanID'</li><li>'subjectID'</li><li>'family'</li><li>'father'</li><li>'mother'</li><li>'CoriellID'</li><li>'race'</li><li>'sex'</li><li>'status'</li><li>'genoRunID'</li><li>'plate'</li><li>'batch'</li><li>'file'</li></ol>\n"
      ],
      "text/latex": [
       "\\begin{enumerate*}\n",
       "\\item 'scanID'\n",
       "\\item 'subjectID'\n",
       "\\item 'family'\n",
       "\\item 'father'\n",
       "\\item 'mother'\n",
       "\\item 'CoriellID'\n",
       "\\item 'race'\n",
       "\\item 'sex'\n",
       "\\item 'status'\n",
       "\\item 'genoRunID'\n",
       "\\item 'plate'\n",
       "\\item 'batch'\n",
       "\\item 'file'\n",
       "\\end{enumerate*}\n"
      ],
      "text/markdown": [
       "1. 'scanID'\n",
       "2. 'subjectID'\n",
       "3. 'family'\n",
       "4. 'father'\n",
       "5. 'mother'\n",
       "6. 'CoriellID'\n",
       "7. 'race'\n",
       "8. 'sex'\n",
       "9. 'status'\n",
       "10. 'genoRunID'\n",
       "11. 'plate'\n",
       "12. 'batch'\n",
       "13. 'file'\n",
       "\n",
       "\n"
      ],
      "text/plain": [
       " [1] \"scanID\"    \"subjectID\" \"family\"    \"father\"    \"mother\"    \"CoriellID\"\n",
       " [7] \"race\"      \"sex\"       \"status\"    \"genoRunID\" \"plate\"     \"batch\"    \n",
       "[13] \"file\"     "
      ]
     },
     "metadata": {},
     "output_type": "display_data"
    },
    {
     "data": {
      "text/html": [
       "<table>\n",
       "<caption>A data.frame: 6 × 13</caption>\n",
       "<thead>\n",
       "\t<tr><th></th><th scope=col>scanID</th><th scope=col>subjectID</th><th scope=col>family</th><th scope=col>father</th><th scope=col>mother</th><th scope=col>CoriellID</th><th scope=col>race</th><th scope=col>sex</th><th scope=col>status</th><th scope=col>genoRunID</th><th scope=col>plate</th><th scope=col>batch</th><th scope=col>file</th></tr>\n",
       "\t<tr><th></th><th scope=col>&lt;int&gt;</th><th scope=col>&lt;int&gt;</th><th scope=col>&lt;int&gt;</th><th scope=col>&lt;dbl&gt;</th><th scope=col>&lt;dbl&gt;</th><th scope=col>&lt;chr&gt;</th><th scope=col>&lt;chr&gt;</th><th scope=col>&lt;chr&gt;</th><th scope=col>&lt;dbl&gt;</th><th scope=col>&lt;chr&gt;</th><th scope=col>&lt;chr&gt;</th><th scope=col>&lt;chr&gt;</th><th scope=col>&lt;chr&gt;</th></tr>\n",
       "</thead>\n",
       "<tbody>\n",
       "\t<tr><th scope=row>1</th><td>280</td><td>200191449</td><td>1341</td><td>        0</td><td>        0</td><td>NA06985</td><td>CEU</td><td>F</td><td>1</td><td>WG1000993-DNAG10-CIDR_06985@1007850397</td><td>WG0052814-AMP2</td><td>A</td><td>GENEVA_1M_HapMap_37.csv</td></tr>\n",
       "\t<tr><th scope=row>2</th><td>281</td><td>200191449</td><td>1341</td><td>        0</td><td>        0</td><td>NA06985</td><td>CEU</td><td>F</td><td>1</td><td>WG1000992-DNAF10-CIDR_06985@1007850586</td><td>WG0061258-AMP2</td><td>A</td><td>GENEVA_1M_HapMap_58.csv</td></tr>\n",
       "\t<tr><th scope=row>3</th><td>282</td><td>200030290</td><td>1341</td><td>200099417</td><td>200191449</td><td>NA06991</td><td>CEU</td><td>F</td><td>0</td><td>WG1000970-DNAB11-CIDR_06991@1007850444</td><td>WG0061536-AMP2</td><td>B</td><td>GENEVA_1M_HapMap_5.csv </td></tr>\n",
       "\t<tr><th scope=row>4</th><td>283</td><td>200030290</td><td>1341</td><td>200099417</td><td>200191449</td><td>NA06991</td><td>CEU</td><td>F</td><td>0</td><td>WG1000969-DNAA11-CIDR_06991@1007850587</td><td>WG0053489-AMP2</td><td>A</td><td>GENEVA_1M_HapMap_3.csv </td></tr>\n",
       "\t<tr><th scope=row>5</th><td>284</td><td>200099417</td><td>1341</td><td>        0</td><td>        0</td><td>NA06993</td><td>CEU</td><td>M</td><td>1</td><td>WG1000972-DNAE10-CIDR_06993@1007850591</td><td>WG0060475-AMP2</td><td>C</td><td>GENEVA_1M_HapMap_10.csv</td></tr>\n",
       "\t<tr><th scope=row>6</th><td>285</td><td>200099417</td><td>1341</td><td>        0</td><td>        0</td><td>NA06993</td><td>CEU</td><td>M</td><td>1</td><td>WG1000971-DNAD10-CIDR_06993@1007850421</td><td>WG0061540-AMP2</td><td>B</td><td>GENEVA_1M_HapMap_71.csv</td></tr>\n",
       "</tbody>\n",
       "</table>\n"
      ],
      "text/latex": [
       "A data.frame: 6 × 13\n",
       "\\begin{tabular}{r|lllllllllllll}\n",
       "  & scanID & subjectID & family & father & mother & CoriellID & race & sex & status & genoRunID & plate & batch & file\\\\\n",
       "  & <int> & <int> & <int> & <dbl> & <dbl> & <chr> & <chr> & <chr> & <dbl> & <chr> & <chr> & <chr> & <chr>\\\\\n",
       "\\hline\n",
       "\t1 & 280 & 200191449 & 1341 &         0 &         0 & NA06985 & CEU & F & 1 & WG1000993-DNAG10-CIDR\\_06985@1007850397 & WG0052814-AMP2 & A & GENEVA\\_1M\\_HapMap\\_37.csv\\\\\n",
       "\t2 & 281 & 200191449 & 1341 &         0 &         0 & NA06985 & CEU & F & 1 & WG1000992-DNAF10-CIDR\\_06985@1007850586 & WG0061258-AMP2 & A & GENEVA\\_1M\\_HapMap\\_58.csv\\\\\n",
       "\t3 & 282 & 200030290 & 1341 & 200099417 & 200191449 & NA06991 & CEU & F & 0 & WG1000970-DNAB11-CIDR\\_06991@1007850444 & WG0061536-AMP2 & B & GENEVA\\_1M\\_HapMap\\_5.csv \\\\\n",
       "\t4 & 283 & 200030290 & 1341 & 200099417 & 200191449 & NA06991 & CEU & F & 0 & WG1000969-DNAA11-CIDR\\_06991@1007850587 & WG0053489-AMP2 & A & GENEVA\\_1M\\_HapMap\\_3.csv \\\\\n",
       "\t5 & 284 & 200099417 & 1341 &         0 &         0 & NA06993 & CEU & M & 1 & WG1000972-DNAE10-CIDR\\_06993@1007850591 & WG0060475-AMP2 & C & GENEVA\\_1M\\_HapMap\\_10.csv\\\\\n",
       "\t6 & 285 & 200099417 & 1341 &         0 &         0 & NA06993 & CEU & M & 1 & WG1000971-DNAD10-CIDR\\_06993@1007850421 & WG0061540-AMP2 & B & GENEVA\\_1M\\_HapMap\\_71.csv\\\\\n",
       "\\end{tabular}\n"
      ],
      "text/markdown": [
       "\n",
       "A data.frame: 6 × 13\n",
       "\n",
       "| <!--/--> | scanID &lt;int&gt; | subjectID &lt;int&gt; | family &lt;int&gt; | father &lt;dbl&gt; | mother &lt;dbl&gt; | CoriellID &lt;chr&gt; | race &lt;chr&gt; | sex &lt;chr&gt; | status &lt;dbl&gt; | genoRunID &lt;chr&gt; | plate &lt;chr&gt; | batch &lt;chr&gt; | file &lt;chr&gt; |\n",
       "|---|---|---|---|---|---|---|---|---|---|---|---|---|---|\n",
       "| 1 | 280 | 200191449 | 1341 |         0 |         0 | NA06985 | CEU | F | 1 | WG1000993-DNAG10-CIDR_06985@1007850397 | WG0052814-AMP2 | A | GENEVA_1M_HapMap_37.csv |\n",
       "| 2 | 281 | 200191449 | 1341 |         0 |         0 | NA06985 | CEU | F | 1 | WG1000992-DNAF10-CIDR_06985@1007850586 | WG0061258-AMP2 | A | GENEVA_1M_HapMap_58.csv |\n",
       "| 3 | 282 | 200030290 | 1341 | 200099417 | 200191449 | NA06991 | CEU | F | 0 | WG1000970-DNAB11-CIDR_06991@1007850444 | WG0061536-AMP2 | B | GENEVA_1M_HapMap_5.csv  |\n",
       "| 4 | 283 | 200030290 | 1341 | 200099417 | 200191449 | NA06991 | CEU | F | 0 | WG1000969-DNAA11-CIDR_06991@1007850587 | WG0053489-AMP2 | A | GENEVA_1M_HapMap_3.csv  |\n",
       "| 5 | 284 | 200099417 | 1341 |         0 |         0 | NA06993 | CEU | M | 1 | WG1000972-DNAE10-CIDR_06993@1007850591 | WG0060475-AMP2 | C | GENEVA_1M_HapMap_10.csv |\n",
       "| 6 | 285 | 200099417 | 1341 |         0 |         0 | NA06993 | CEU | M | 1 | WG1000971-DNAD10-CIDR_06993@1007850421 | WG0061540-AMP2 | B | GENEVA_1M_HapMap_71.csv |\n",
       "\n"
      ],
      "text/plain": [
       "  scanID subjectID family father    mother    CoriellID race sex status\n",
       "1 280    200191449 1341           0         0 NA06985   CEU  F   1     \n",
       "2 281    200191449 1341           0         0 NA06985   CEU  F   1     \n",
       "3 282    200030290 1341   200099417 200191449 NA06991   CEU  F   0     \n",
       "4 283    200030290 1341   200099417 200191449 NA06991   CEU  F   0     \n",
       "5 284    200099417 1341           0         0 NA06993   CEU  M   1     \n",
       "6 285    200099417 1341           0         0 NA06993   CEU  M   1     \n",
       "  genoRunID                              plate          batch\n",
       "1 WG1000993-DNAG10-CIDR_06985@1007850397 WG0052814-AMP2 A    \n",
       "2 WG1000992-DNAF10-CIDR_06985@1007850586 WG0061258-AMP2 A    \n",
       "3 WG1000970-DNAB11-CIDR_06991@1007850444 WG0061536-AMP2 B    \n",
       "4 WG1000969-DNAA11-CIDR_06991@1007850587 WG0053489-AMP2 A    \n",
       "5 WG1000972-DNAE10-CIDR_06993@1007850591 WG0060475-AMP2 C    \n",
       "6 WG1000971-DNAD10-CIDR_06993@1007850421 WG0061540-AMP2 B    \n",
       "  file                   \n",
       "1 GENEVA_1M_HapMap_37.csv\n",
       "2 GENEVA_1M_HapMap_58.csv\n",
       "3 GENEVA_1M_HapMap_5.csv \n",
       "4 GENEVA_1M_HapMap_3.csv \n",
       "5 GENEVA_1M_HapMap_10.csv\n",
       "6 GENEVA_1M_HapMap_71.csv"
      ]
     },
     "metadata": {},
     "output_type": "display_data"
    }
   ],
   "source": [
    "# Load the scan annotation (simple data frame)\n",
    "data(illumina_scan_annot)\n",
    "# Create a ScanAnnotationDataFrame\n",
    "scanAnnot <- ScanAnnotationDataFrame(illumina_scan_annot)\n",
    "# names of columns\n",
    "varLabels(scanAnnot)\n",
    "# data\n",
    "head(pData(scanAnnot))\n",
    "# Add metadata to describe the columns\n",
    "meta <- varMetadata(scanAnnot)\n",
    "meta[c(\"scanID\", \"subjectID\", \"family\", \"father\", \"mother\",\n",
    "  \"CoriellID\", \"race\", \"sex\", \"status\", \"genoRunID\", \"plate\",\n",
    "  \"batch\", \"file\"), \"labelDescription\"] <-\n",
    "   c(\"unique ID for scans\",\n",
    "  \"subject identifier (may have multiple scans)\",\n",
    "  \"family identifier\",\n",
    "  \"father identifier as subjectID\",\n",
    "  \"mother identifier as subjectID\",\n",
    "  \"Coriell subject identifier\",\n",
    "  \"HapMap population group\",\n",
    "  \"sex coded as M=male and F=female\",\n",
    "  \"simulated case/control status\" ,\n",
    "  \"genotyping instance identifier\",\n",
    "  \"plate containing samples processed together for genotyping chemistry\",\n",
    "  \"simulated genotyping batch\",\n",
    "  \"raw data file\")\n",
    "varMetadata(scanAnnot) <- meta"
   ]
  },
  {
   "cell_type": "code",
   "execution_count": 6,
   "metadata": {},
   "outputs": [
    {
     "data": {
      "text/html": [
       "<style>\n",
       ".list-inline {list-style: none; margin:0; padding: 0}\n",
       ".list-inline>li {display: inline-block}\n",
       ".list-inline>li:not(:last-child)::after {content: \"\\00b7\"; padding: 0 .5ex}\n",
       "</style>\n",
       "<ol class=list-inline><li>'scanID'</li><li>'subjectID'</li><li>'family'</li><li>'father'</li><li>'mother'</li><li>'CoriellID'</li><li>'race'</li><li>'sex'</li><li>'status'</li><li>'genoRunID'</li><li>'plate'</li><li>'batch'</li><li>'file'</li></ol>\n"
      ],
      "text/latex": [
       "\\begin{enumerate*}\n",
       "\\item 'scanID'\n",
       "\\item 'subjectID'\n",
       "\\item 'family'\n",
       "\\item 'father'\n",
       "\\item 'mother'\n",
       "\\item 'CoriellID'\n",
       "\\item 'race'\n",
       "\\item 'sex'\n",
       "\\item 'status'\n",
       "\\item 'genoRunID'\n",
       "\\item 'plate'\n",
       "\\item 'batch'\n",
       "\\item 'file'\n",
       "\\end{enumerate*}\n"
      ],
      "text/markdown": [
       "1. 'scanID'\n",
       "2. 'subjectID'\n",
       "3. 'family'\n",
       "4. 'father'\n",
       "5. 'mother'\n",
       "6. 'CoriellID'\n",
       "7. 'race'\n",
       "8. 'sex'\n",
       "9. 'status'\n",
       "10. 'genoRunID'\n",
       "11. 'plate'\n",
       "12. 'batch'\n",
       "13. 'file'\n",
       "\n",
       "\n"
      ],
      "text/plain": [
       " [1] \"scanID\"    \"subjectID\" \"family\"    \"father\"    \"mother\"    \"CoriellID\"\n",
       " [7] \"race\"      \"sex\"       \"status\"    \"genoRunID\" \"plate\"     \"batch\"    \n",
       "[13] \"file\"     "
      ]
     },
     "metadata": {},
     "output_type": "display_data"
    },
    {
     "data": {
      "text/html": [
       "<table>\n",
       "<caption>A data.frame: 6 × 13</caption>\n",
       "<thead>\n",
       "\t<tr><th></th><th scope=col>scanID</th><th scope=col>subjectID</th><th scope=col>family</th><th scope=col>father</th><th scope=col>mother</th><th scope=col>CoriellID</th><th scope=col>race</th><th scope=col>sex</th><th scope=col>status</th><th scope=col>genoRunID</th><th scope=col>plate</th><th scope=col>batch</th><th scope=col>file</th></tr>\n",
       "\t<tr><th></th><th scope=col>&lt;int&gt;</th><th scope=col>&lt;int&gt;</th><th scope=col>&lt;int&gt;</th><th scope=col>&lt;dbl&gt;</th><th scope=col>&lt;dbl&gt;</th><th scope=col>&lt;chr&gt;</th><th scope=col>&lt;chr&gt;</th><th scope=col>&lt;chr&gt;</th><th scope=col>&lt;dbl&gt;</th><th scope=col>&lt;chr&gt;</th><th scope=col>&lt;chr&gt;</th><th scope=col>&lt;chr&gt;</th><th scope=col>&lt;chr&gt;</th></tr>\n",
       "</thead>\n",
       "<tbody>\n",
       "\t<tr><th scope=row>1</th><td>280</td><td>200191449</td><td>1341</td><td>        0</td><td>        0</td><td>NA06985</td><td>CEU</td><td>F</td><td>1</td><td>WG1000993-DNAG10-CIDR_06985@1007850397</td><td>WG0052814-AMP2</td><td>A</td><td>GENEVA_1M_HapMap_37.csv</td></tr>\n",
       "\t<tr><th scope=row>2</th><td>281</td><td>200191449</td><td>1341</td><td>        0</td><td>        0</td><td>NA06985</td><td>CEU</td><td>F</td><td>1</td><td>WG1000992-DNAF10-CIDR_06985@1007850586</td><td>WG0061258-AMP2</td><td>A</td><td>GENEVA_1M_HapMap_58.csv</td></tr>\n",
       "\t<tr><th scope=row>3</th><td>282</td><td>200030290</td><td>1341</td><td>200099417</td><td>200191449</td><td>NA06991</td><td>CEU</td><td>F</td><td>0</td><td>WG1000970-DNAB11-CIDR_06991@1007850444</td><td>WG0061536-AMP2</td><td>B</td><td>GENEVA_1M_HapMap_5.csv </td></tr>\n",
       "\t<tr><th scope=row>4</th><td>283</td><td>200030290</td><td>1341</td><td>200099417</td><td>200191449</td><td>NA06991</td><td>CEU</td><td>F</td><td>0</td><td>WG1000969-DNAA11-CIDR_06991@1007850587</td><td>WG0053489-AMP2</td><td>A</td><td>GENEVA_1M_HapMap_3.csv </td></tr>\n",
       "\t<tr><th scope=row>5</th><td>284</td><td>200099417</td><td>1341</td><td>        0</td><td>        0</td><td>NA06993</td><td>CEU</td><td>M</td><td>1</td><td>WG1000972-DNAE10-CIDR_06993@1007850591</td><td>WG0060475-AMP2</td><td>C</td><td>GENEVA_1M_HapMap_10.csv</td></tr>\n",
       "\t<tr><th scope=row>6</th><td>285</td><td>200099417</td><td>1341</td><td>        0</td><td>        0</td><td>NA06993</td><td>CEU</td><td>M</td><td>1</td><td>WG1000971-DNAD10-CIDR_06993@1007850421</td><td>WG0061540-AMP2</td><td>B</td><td>GENEVA_1M_HapMap_71.csv</td></tr>\n",
       "</tbody>\n",
       "</table>\n"
      ],
      "text/latex": [
       "A data.frame: 6 × 13\n",
       "\\begin{tabular}{r|lllllllllllll}\n",
       "  & scanID & subjectID & family & father & mother & CoriellID & race & sex & status & genoRunID & plate & batch & file\\\\\n",
       "  & <int> & <int> & <int> & <dbl> & <dbl> & <chr> & <chr> & <chr> & <dbl> & <chr> & <chr> & <chr> & <chr>\\\\\n",
       "\\hline\n",
       "\t1 & 280 & 200191449 & 1341 &         0 &         0 & NA06985 & CEU & F & 1 & WG1000993-DNAG10-CIDR\\_06985@1007850397 & WG0052814-AMP2 & A & GENEVA\\_1M\\_HapMap\\_37.csv\\\\\n",
       "\t2 & 281 & 200191449 & 1341 &         0 &         0 & NA06985 & CEU & F & 1 & WG1000992-DNAF10-CIDR\\_06985@1007850586 & WG0061258-AMP2 & A & GENEVA\\_1M\\_HapMap\\_58.csv\\\\\n",
       "\t3 & 282 & 200030290 & 1341 & 200099417 & 200191449 & NA06991 & CEU & F & 0 & WG1000970-DNAB11-CIDR\\_06991@1007850444 & WG0061536-AMP2 & B & GENEVA\\_1M\\_HapMap\\_5.csv \\\\\n",
       "\t4 & 283 & 200030290 & 1341 & 200099417 & 200191449 & NA06991 & CEU & F & 0 & WG1000969-DNAA11-CIDR\\_06991@1007850587 & WG0053489-AMP2 & A & GENEVA\\_1M\\_HapMap\\_3.csv \\\\\n",
       "\t5 & 284 & 200099417 & 1341 &         0 &         0 & NA06993 & CEU & M & 1 & WG1000972-DNAE10-CIDR\\_06993@1007850591 & WG0060475-AMP2 & C & GENEVA\\_1M\\_HapMap\\_10.csv\\\\\n",
       "\t6 & 285 & 200099417 & 1341 &         0 &         0 & NA06993 & CEU & M & 1 & WG1000971-DNAD10-CIDR\\_06993@1007850421 & WG0061540-AMP2 & B & GENEVA\\_1M\\_HapMap\\_71.csv\\\\\n",
       "\\end{tabular}\n"
      ],
      "text/markdown": [
       "\n",
       "A data.frame: 6 × 13\n",
       "\n",
       "| <!--/--> | scanID &lt;int&gt; | subjectID &lt;int&gt; | family &lt;int&gt; | father &lt;dbl&gt; | mother &lt;dbl&gt; | CoriellID &lt;chr&gt; | race &lt;chr&gt; | sex &lt;chr&gt; | status &lt;dbl&gt; | genoRunID &lt;chr&gt; | plate &lt;chr&gt; | batch &lt;chr&gt; | file &lt;chr&gt; |\n",
       "|---|---|---|---|---|---|---|---|---|---|---|---|---|---|\n",
       "| 1 | 280 | 200191449 | 1341 |         0 |         0 | NA06985 | CEU | F | 1 | WG1000993-DNAG10-CIDR_06985@1007850397 | WG0052814-AMP2 | A | GENEVA_1M_HapMap_37.csv |\n",
       "| 2 | 281 | 200191449 | 1341 |         0 |         0 | NA06985 | CEU | F | 1 | WG1000992-DNAF10-CIDR_06985@1007850586 | WG0061258-AMP2 | A | GENEVA_1M_HapMap_58.csv |\n",
       "| 3 | 282 | 200030290 | 1341 | 200099417 | 200191449 | NA06991 | CEU | F | 0 | WG1000970-DNAB11-CIDR_06991@1007850444 | WG0061536-AMP2 | B | GENEVA_1M_HapMap_5.csv  |\n",
       "| 4 | 283 | 200030290 | 1341 | 200099417 | 200191449 | NA06991 | CEU | F | 0 | WG1000969-DNAA11-CIDR_06991@1007850587 | WG0053489-AMP2 | A | GENEVA_1M_HapMap_3.csv  |\n",
       "| 5 | 284 | 200099417 | 1341 |         0 |         0 | NA06993 | CEU | M | 1 | WG1000972-DNAE10-CIDR_06993@1007850591 | WG0060475-AMP2 | C | GENEVA_1M_HapMap_10.csv |\n",
       "| 6 | 285 | 200099417 | 1341 |         0 |         0 | NA06993 | CEU | M | 1 | WG1000971-DNAD10-CIDR_06993@1007850421 | WG0061540-AMP2 | B | GENEVA_1M_HapMap_71.csv |\n",
       "\n"
      ],
      "text/plain": [
       "  scanID subjectID family father    mother    CoriellID race sex status\n",
       "1 280    200191449 1341           0         0 NA06985   CEU  F   1     \n",
       "2 281    200191449 1341           0         0 NA06985   CEU  F   1     \n",
       "3 282    200030290 1341   200099417 200191449 NA06991   CEU  F   0     \n",
       "4 283    200030290 1341   200099417 200191449 NA06991   CEU  F   0     \n",
       "5 284    200099417 1341           0         0 NA06993   CEU  M   1     \n",
       "6 285    200099417 1341           0         0 NA06993   CEU  M   1     \n",
       "  genoRunID                              plate          batch\n",
       "1 WG1000993-DNAG10-CIDR_06985@1007850397 WG0052814-AMP2 A    \n",
       "2 WG1000992-DNAF10-CIDR_06985@1007850586 WG0061258-AMP2 A    \n",
       "3 WG1000970-DNAB11-CIDR_06991@1007850444 WG0061536-AMP2 B    \n",
       "4 WG1000969-DNAA11-CIDR_06991@1007850587 WG0053489-AMP2 A    \n",
       "5 WG1000972-DNAE10-CIDR_06993@1007850591 WG0060475-AMP2 C    \n",
       "6 WG1000971-DNAD10-CIDR_06993@1007850421 WG0061540-AMP2 B    \n",
       "  file                   \n",
       "1 GENEVA_1M_HapMap_37.csv\n",
       "2 GENEVA_1M_HapMap_58.csv\n",
       "3 GENEVA_1M_HapMap_5.csv \n",
       "4 GENEVA_1M_HapMap_3.csv \n",
       "5 GENEVA_1M_HapMap_10.csv\n",
       "6 GENEVA_1M_HapMap_71.csv"
      ]
     },
     "metadata": {},
     "output_type": "display_data"
    }
   ],
   "source": [
    "# Load the scan annotation (simple data frame)\n",
    "data(illumina_scan_annot)\n",
    "# Create a ScanAnnotationDataFrame\n",
    "scanAnnot <- ScanAnnotationDataFrame(illumina_scan_annot)\n",
    "# names of columns\n",
    "varLabels(scanAnnot)\n",
    "# data\n",
    "head(pData(scanAnnot))\n",
    "# Add metadata to describe the columns\n",
    "meta <- varMetadata(scanAnnot)\n",
    "meta[c(\"scanID\", \"subjectID\", \"family\", \"father\", \"mother\",\n",
    "  \"CoriellID\", \"race\", \"sex\", \"status\", \"genoRunID\", \"plate\",\n",
    "  \"batch\", \"file\"), \"labelDescription\"] <-\n",
    "   c(\"unique ID for scans\",\n",
    "  \"subject identifier (may have multiple scans)\",\n",
    "  \"family identifier\",\n",
    "  \"father identifier as subjectID\",\n",
    "  \"mother identifier as subjectID\",\n",
    "  \"Coriell subject identifier\",\n",
    "  \"HapMap population group\",\n",
    "  \"sex coded as M=male and F=female\",\n",
    "  \"simulated case/control status\" ,\n",
    "  \"genotyping instance identifier\",\n",
    "  \"plate containing samples processed together for genotyping chemistry\",\n",
    "  \"simulated genotyping batch\",\n",
    "  \"raw data file\")\n",
    "varMetadata(scanAnnot) <- meta"
   ]
  },
  {
   "cell_type": "code",
   "execution_count": 7,
   "metadata": {},
   "outputs": [],
   "source": [
    "scanID <- scanAnnot$scanID\n",
    "scanID <- getScanID(scanAnnot)\n",
    "sex <- scanAnnot[[\"sex\"]]\n",
    "sex <- getSex(scanAnnot)\n",
    "subjectID <- getVariable(scanAnnot, \"subjectID\")"
   ]
  },
  {
   "cell_type": "code",
   "execution_count": 8,
   "metadata": {},
   "outputs": [
    {
     "name": "stderr",
     "output_type": "stream",
     "text": [
      "adding variables: genotype\n",
      "\n"
     ]
    },
    {
     "data": {
      "text/html": [
       "<style>\n",
       ".list-inline {list-style: none; margin:0; padding: 0}\n",
       ".list-inline>li {display: inline-block}\n",
       ".list-inline>li:not(:last-child)::after {content: \"\\00b7\"; padding: 0 .5ex}\n",
       "</style>\n",
       "<ol class=list-inline><li>'read.file'</li><li>'row.num'</li><li>'samples'</li><li>'sample.match'</li><li>'missg'</li><li>'snp.chk'</li><li>'chk'</li></ol>\n"
      ],
      "text/latex": [
       "\\begin{enumerate*}\n",
       "\\item 'read.file'\n",
       "\\item 'row.num'\n",
       "\\item 'samples'\n",
       "\\item 'sample.match'\n",
       "\\item 'missg'\n",
       "\\item 'snp.chk'\n",
       "\\item 'chk'\n",
       "\\end{enumerate*}\n"
      ],
      "text/markdown": [
       "1. 'read.file'\n",
       "2. 'row.num'\n",
       "3. 'samples'\n",
       "4. 'sample.match'\n",
       "5. 'missg'\n",
       "6. 'snp.chk'\n",
       "7. 'chk'\n",
       "\n",
       "\n"
      ],
      "text/plain": [
       "[1] \"read.file\"    \"row.num\"      \"samples\"      \"sample.match\" \"missg\"       \n",
       "[6] \"snp.chk\"      \"chk\"         "
      ]
     },
     "metadata": {},
     "output_type": "display_data"
    },
    {
     "data": {
      "text/plain": [
       "\n",
       "1 \n",
       "3 "
      ]
     },
     "metadata": {},
     "output_type": "display_data"
    },
    {
     "data": {
      "text/plain": [
       "\n",
       "3300 \n",
       "   3 "
      ]
     },
     "metadata": {},
     "output_type": "display_data"
    },
    {
     "data": {
      "text/plain": [
       "\n",
       "1 \n",
       "3 "
      ]
     },
     "metadata": {},
     "output_type": "display_data"
    },
    {
     "data": {
      "text/plain": [
       "\n",
       "1 \n",
       "3 "
      ]
     },
     "metadata": {},
     "output_type": "display_data"
    },
    {
     "data": {
      "text/plain": [
       "\n",
       "1 \n",
       "3 "
      ]
     },
     "metadata": {},
     "output_type": "display_data"
    }
   ],
   "source": [
    "# Define a path to the raw data files\n",
    "path <- system.file(\"extdata\", \"illumina_raw_data\", package=\"GWASdata\")\n",
    "\n",
    "geno.file <- \"tmp.geno.gds\"\n",
    "\n",
    "# first 3 samples only\n",
    "scan.annotation <- illumina_scan_annot[1:3, c(\"scanID\", \"genoRunID\", \"file\")]\n",
    "names(scan.annotation)[2] <- \"scanName\"\n",
    "\n",
    "snp.annotation <- illumina_snp_annot[,c(\"snpID\", \"rsID\", \"chromosome\", \"position\")]\n",
    "# indicate which column of SNP annotation is referenced in data files\n",
    "names(snp.annotation)[2] <-  \"snpName\"\n",
    "\n",
    "col.nums <- as.integer(c(1,2,12,13))\n",
    "names(col.nums) <- c(\"snp\", \"sample\", \"a1\", \"a2\")\n",
    "\n",
    "diag.geno.file <- \"diag.geno.RData\"\n",
    "diag.geno <- createDataFile(path = path,\n",
    "  filename = geno.file,\n",
    "  file.type = \"gds\",\n",
    "  variables = \"genotype\",\n",
    "  snp.annotation = snp.annotation,\n",
    "  scan.annotation = scan.annotation,\n",
    "  sep.type = \",\",\n",
    "  skip.num = 11,\n",
    "  col.total = 21,\n",
    "  col.nums = col.nums,\n",
    "  scan.name.in.file = 1,\n",
    "  diagnostics.filename = diag.geno.file,\n",
    "  verbose = FALSE)\n",
    "# Look at the values included in the \"diag.geno\" object which holds\n",
    "#   all output from the function call\n",
    "names(diag.geno)\n",
    "# `read.file' is a vector indicating whether (1) or not (0) each file\n",
    "#   specified in the `files' argument was read successfully\n",
    "table(diag.geno$read.file)\n",
    "# `row.num' is a vector of the number of rows read from each file\n",
    "table(diag.geno$row.num)\n",
    "# `sample.match' is a vector indicating whether (1) or not (0)\n",
    "#   the sample name inside the raw text file matches that in the\n",
    "#   sample annotation data.frame\n",
    "table(diag.geno$sample.match)\n",
    "# `snp.chk' is a vector indicating whether (1) or not (0)\n",
    "#   the raw text file has the expected set of SNP names\n",
    "table(diag.geno$snp.chk)\n",
    "# `chk' is a vector indicating whether (1) or not (0) all previous\n",
    "#   checks were successful and the data were written to the data file\n",
    "table(diag.geno$chk)"
   ]
  },
  {
   "cell_type": "code",
   "execution_count": null,
   "metadata": {},
   "outputs": [],
   "source": []
  }
 ],
 "metadata": {
  "kernelspec": {
   "display_name": "R",
   "language": "R",
   "name": "ir"
  },
  "language_info": {
   "codemirror_mode": "r",
   "file_extension": ".r",
   "mimetype": "text/x-r-source",
   "name": "R",
   "pygments_lexer": "r",
   "version": "4.0.3"
  }
 },
 "nbformat": 4,
 "nbformat_minor": 4
}
